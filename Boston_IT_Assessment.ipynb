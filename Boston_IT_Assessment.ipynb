{
  "nbformat": 4,
  "nbformat_minor": 0,
  "metadata": {
    "kernelspec": {
      "display_name": "Python 3",
      "language": "python",
      "name": "python3"
    },
    "language_info": {
      "codemirror_mode": {
        "name": "ipython",
        "version": 3
      },
      "file_extension": ".py",
      "mimetype": "text/x-python",
      "name": "python",
      "nbconvert_exporter": "python",
      "pygments_lexer": "ipython3",
      "version": "3.7.3"
    },
    "colab": {
      "provenance": []
    },
    "gpuClass": "standard"
  },
  "cells": [
    {
      "cell_type": "code",
      "metadata": {
        "id": "gxliHgvY9jVm",
        "colab": {
          "base_uri": "https://localhost:8080/"
        },
        "outputId": "76c8b60b-26f0-40ee-b9be-8ceefc216ee9"
      },
      "source": [
        "from google.colab import drive\n",
        "drive.mount('/content/drive/', force_remount=True)"
      ],
      "execution_count": 30,
      "outputs": [
        {
          "output_type": "stream",
          "name": "stdout",
          "text": [
            "Drive already mounted at /content/drive/; to attempt to forcibly remount, call drive.mount(\"/content/drive/\", force_remount=True).\n"
          ]
        }
      ]
    },
    {
      "cell_type": "code",
      "metadata": {
        "id": "jEzIKsTD9jVq",
        "colab": {
          "base_uri": "https://localhost:8080/"
        },
        "outputId": "f3fd7fc0-f34d-4329-bf9d-848b4925cbcf"
      },
      "source": [
        "import os\n",
        "X_train = []\n",
        "y_train = []                                                                                                                                                                                                                                               \n",
        "import cv2\n",
        "for i in os.listdir('/content/drive/My Drive/AI/Project/CNN/Dataset/train'):\n",
        "    print(i)\n",
        "    if (os.path.isdir('/content/drive/My Drive/AI/Project/CNN/Dataset/train/' + i)):\n",
        "        for j in os.listdir('/content/drive/My Drive/AI/Project/CNN/Dataset/train/' + i):\n",
        "            try:\n",
        "                dummy = cv2.imread('/content/drive/My Drive/AI/Project/CNN/Dataset/train/' + i + '/' + j)\n",
        "                dummy = cv2.resize(dummy,(128,128))\n",
        "                X_train.append(dummy)\n",
        "                y_train.append(i)\n",
        "            except Exception as e:\n",
        "                print(e)"
      ],
      "execution_count": 31,
      "outputs": [
        {
          "output_type": "stream",
          "name": "stdout",
          "text": [
            "PURPLE CHLORIS\n",
            "CROWFOOT GRASS\n",
            "CELOSIA ARGENTEA L\n"
          ]
        }
      ]
    },
    {
      "cell_type": "code",
      "metadata": {
        "id": "9JbuIBbL9jVs"
      },
      "source": [
        "\n",
        "import numpy as np\n",
        "X_train1 = np.array(X_train)\n",
        "y_train1 = np.array(y_train)"
      ],
      "execution_count": 32,
      "outputs": []
    },
    {
      "cell_type": "code",
      "metadata": {
        "id": "_ef0bf4X9jVx"
      },
      "source": [
        "\n",
        "from sklearn.preprocessing import LabelEncoder\n",
        "lenc = LabelEncoder()\n",
        "y_train2 = lenc.fit_transform(y_train1)\n",
        "import tensorflow as tf\n",
        "y_train1 = tf.keras.utils.to_categorical(y_train2)"
      ],
      "execution_count": 33,
      "outputs": []
    },
    {
      "cell_type": "code",
      "metadata": {
        "id": "v6WfrU37FHW1"
      },
      "source": [
        "from sklearn.model_selection import train_test_split\n",
        "x_tr,x_vl,y_tr,y_vl = train_test_split(X_train1,y_train1)"
      ],
      "execution_count": 34,
      "outputs": []
    },
    {
      "cell_type": "code",
      "metadata": {
        "id": "JMeyt0CU9jV0"
      },
      "source": [
        "\n",
        "X_test = []\n",
        "import cv2\n",
        "for i in os.listdir('/content/drive/My Drive/AI/Project/CNN/Dataset/test'):\n",
        "    dummy = cv2.imread('/content/drive/My Drive/AI/Project/CNN/Dataset/test/' + i)\n",
        "    dummy = cv2.resize(dummy, (128,128))\n",
        "    X_test.append(dummy)"
      ],
      "execution_count": 35,
      "outputs": []
    },
    {
      "cell_type": "code",
      "metadata": {
        "id": "q1SucFSxVQtV"
      },
      "source": [
        "X_test1 = np.array(X_test)"
      ],
      "execution_count": 36,
      "outputs": []
    },
    {
      "cell_type": "code",
      "metadata": {
        "id": "uNukw7O49jV2"
      },
      "source": [
        "from tensorflow.keras import layers\n",
        "from tensorflow.keras.models import Sequential\n",
        "model = Sequential()"
      ],
      "execution_count": 37,
      "outputs": []
    },
    {
      "cell_type": "code",
      "metadata": {
        "id": "JXV9V2019jV4"
      },
      "source": [
        "\n",
        "model.add(layers.Flatten())\n",
        "model.add(layers.BatchNormalization())\n",
        "model.add(layers.Dense(256,activation='relu'))\n",
        "model.add(layers.Dropout(0.4))\n",
        "model.add(layers.Dense(3,activation='softmax'))\n",
        "model.compile(optimizer='adam',loss='categorical_crossentropy',metrics=['accuracy'])"
      ],
      "execution_count": 38,
      "outputs": []
    },
    {
      "cell_type": "code",
      "metadata": {
        "id": "hpVYXLJi9jV8",
        "colab": {
          "base_uri": "https://localhost:8080/"
        },
        "outputId": "f210f0c4-250b-4711-8372-f349921c6716"
      },
      "source": [
        "model.fit(X_train1,y_train1,epochs=104,batch_size=100)"
      ],
      "execution_count": 39,
      "outputs": [
        {
          "output_type": "stream",
          "name": "stdout",
          "text": [
            "Epoch 1/104\n",
            "2/2 [==============================] - 2s 262ms/step - loss: 14.3814 - accuracy: 0.4041\n",
            "Epoch 2/104\n",
            "2/2 [==============================] - 1s 394ms/step - loss: 14.8092 - accuracy: 0.6477\n",
            "Epoch 3/104\n",
            "2/2 [==============================] - 1s 384ms/step - loss: 9.0828 - accuracy: 0.7927\n",
            "Epoch 4/104\n",
            "2/2 [==============================] - 1s 418ms/step - loss: 4.6879 - accuracy: 0.8860\n",
            "Epoch 5/104\n",
            "2/2 [==============================] - 1s 427ms/step - loss: 4.9818 - accuracy: 0.8756\n",
            "Epoch 6/104\n",
            "2/2 [==============================] - 1s 255ms/step - loss: 2.1568 - accuracy: 0.9171\n",
            "Epoch 7/104\n",
            "2/2 [==============================] - 0s 247ms/step - loss: 1.5122 - accuracy: 0.9326\n",
            "Epoch 8/104\n",
            "2/2 [==============================] - 1s 244ms/step - loss: 1.1209 - accuracy: 0.9482\n",
            "Epoch 9/104\n",
            "2/2 [==============================] - 1s 255ms/step - loss: 1.0209 - accuracy: 0.9326\n",
            "Epoch 10/104\n",
            "2/2 [==============================] - 1s 242ms/step - loss: 0.8681 - accuracy: 0.9585\n",
            "Epoch 11/104\n",
            "2/2 [==============================] - 0s 239ms/step - loss: 2.3200 - accuracy: 0.9689\n",
            "Epoch 12/104\n",
            "2/2 [==============================] - 1s 248ms/step - loss: 0.5082 - accuracy: 0.9689\n",
            "Epoch 13/104\n",
            "2/2 [==============================] - 1s 250ms/step - loss: 2.3411 - accuracy: 0.9326\n",
            "Epoch 14/104\n",
            "2/2 [==============================] - 1s 246ms/step - loss: 1.2607 - accuracy: 0.9689\n",
            "Epoch 15/104\n",
            "2/2 [==============================] - 1s 251ms/step - loss: 0.6708 - accuracy: 0.9689\n",
            "Epoch 16/104\n",
            "2/2 [==============================] - 0s 245ms/step - loss: 0.9729 - accuracy: 0.9585\n",
            "Epoch 17/104\n",
            "2/2 [==============================] - 0s 249ms/step - loss: 0.7691 - accuracy: 0.9793\n",
            "Epoch 18/104\n",
            "2/2 [==============================] - 0s 243ms/step - loss: 1.9469 - accuracy: 0.9585\n",
            "Epoch 19/104\n",
            "2/2 [==============================] - 0s 250ms/step - loss: 0.9697 - accuracy: 0.9741\n",
            "Epoch 20/104\n",
            "2/2 [==============================] - 0s 237ms/step - loss: 0.4500 - accuracy: 0.9793\n",
            "Epoch 21/104\n",
            "2/2 [==============================] - 0s 238ms/step - loss: 0.3081 - accuracy: 0.9741\n",
            "Epoch 22/104\n",
            "2/2 [==============================] - 0s 238ms/step - loss: 0.2933 - accuracy: 0.9793\n",
            "Epoch 23/104\n",
            "2/2 [==============================] - 0s 241ms/step - loss: 0.5345 - accuracy: 0.9896\n",
            "Epoch 24/104\n",
            "2/2 [==============================] - 1s 242ms/step - loss: 0.3708 - accuracy: 0.9845\n",
            "Epoch 25/104\n",
            "2/2 [==============================] - 0s 248ms/step - loss: 0.0363 - accuracy: 0.9948\n",
            "Epoch 26/104\n",
            "2/2 [==============================] - 1s 368ms/step - loss: 0.1550 - accuracy: 0.9896\n",
            "Epoch 27/104\n",
            "2/2 [==============================] - 1s 430ms/step - loss: 0.0655 - accuracy: 0.9896\n",
            "Epoch 28/104\n",
            "2/2 [==============================] - 1s 441ms/step - loss: 0.1057 - accuracy: 0.9896\n",
            "Epoch 29/104\n",
            "2/2 [==============================] - 1s 321ms/step - loss: 0.8238 - accuracy: 0.9845\n",
            "Epoch 30/104\n",
            "2/2 [==============================] - 1s 246ms/step - loss: 0.3516 - accuracy: 0.9896\n",
            "Epoch 31/104\n",
            "2/2 [==============================] - 1s 248ms/step - loss: 0.0665 - accuracy: 0.9948\n",
            "Epoch 32/104\n",
            "2/2 [==============================] - 1s 259ms/step - loss: 0.0264 - accuracy: 0.9948\n",
            "Epoch 33/104\n",
            "2/2 [==============================] - 1s 245ms/step - loss: 0.0370 - accuracy: 0.9948\n",
            "Epoch 34/104\n",
            "2/2 [==============================] - 1s 246ms/step - loss: 0.4940 - accuracy: 0.9896\n",
            "Epoch 35/104\n",
            "2/2 [==============================] - 0s 239ms/step - loss: 0.1021 - accuracy: 0.9948\n",
            "Epoch 36/104\n",
            "2/2 [==============================] - 0s 243ms/step - loss: 5.4354e-08 - accuracy: 1.0000\n",
            "Epoch 37/104\n",
            "2/2 [==============================] - 0s 245ms/step - loss: 0.1666 - accuracy: 0.9948\n",
            "Epoch 38/104\n",
            "2/2 [==============================] - 1s 246ms/step - loss: 0.1528 - accuracy: 0.9896\n",
            "Epoch 39/104\n",
            "2/2 [==============================] - 1s 252ms/step - loss: 0.0403 - accuracy: 0.9948\n",
            "Epoch 40/104\n",
            "2/2 [==============================] - 1s 246ms/step - loss: 0.1171 - accuracy: 0.9896\n",
            "Epoch 41/104\n",
            "2/2 [==============================] - 1s 248ms/step - loss: 3.5309e-05 - accuracy: 1.0000\n",
            "Epoch 42/104\n",
            "2/2 [==============================] - 1s 247ms/step - loss: 1.7912e-08 - accuracy: 1.0000\n",
            "Epoch 43/104\n",
            "2/2 [==============================] - 1s 251ms/step - loss: 0.0105 - accuracy: 0.9948\n",
            "Epoch 44/104\n",
            "2/2 [==============================] - 1s 244ms/step - loss: 2.1876e-04 - accuracy: 1.0000\n",
            "Epoch 45/104\n",
            "2/2 [==============================] - 0s 243ms/step - loss: 0.0734 - accuracy: 0.9948\n",
            "Epoch 46/104\n",
            "2/2 [==============================] - 1s 251ms/step - loss: 0.0658 - accuracy: 0.9948\n",
            "Epoch 47/104\n",
            "2/2 [==============================] - 1s 245ms/step - loss: 0.1617 - accuracy: 0.9896\n",
            "Epoch 48/104\n",
            "2/2 [==============================] - 1s 252ms/step - loss: 0.5344 - accuracy: 0.9896\n",
            "Epoch 49/104\n",
            "2/2 [==============================] - 1s 438ms/step - loss: 0.0209 - accuracy: 0.9948\n",
            "Epoch 50/104\n",
            "2/2 [==============================] - 1s 467ms/step - loss: 0.0024 - accuracy: 1.0000\n",
            "Epoch 51/104\n",
            "2/2 [==============================] - 1s 442ms/step - loss: 0.1616 - accuracy: 0.9948\n",
            "Epoch 52/104\n",
            "2/2 [==============================] - 1s 379ms/step - loss: 0.4050 - accuracy: 0.9948\n",
            "Epoch 53/104\n",
            "2/2 [==============================] - 1s 261ms/step - loss: 0.1173 - accuracy: 0.9948\n",
            "Epoch 54/104\n",
            "2/2 [==============================] - 1s 250ms/step - loss: 0.1129 - accuracy: 0.9896\n",
            "Epoch 55/104\n",
            "2/2 [==============================] - 1s 263ms/step - loss: 0.0000e+00 - accuracy: 1.0000\n",
            "Epoch 56/104\n",
            "2/2 [==============================] - 1s 254ms/step - loss: 0.1919 - accuracy: 0.9948\n",
            "Epoch 57/104\n",
            "2/2 [==============================] - 1s 250ms/step - loss: 0.2366 - accuracy: 0.9896\n",
            "Epoch 58/104\n",
            "2/2 [==============================] - 1s 249ms/step - loss: 9.2649e-08 - accuracy: 1.0000\n",
            "Epoch 59/104\n",
            "2/2 [==============================] - 1s 267ms/step - loss: 3.2488e-07 - accuracy: 1.0000\n",
            "Epoch 60/104\n",
            "2/2 [==============================] - 1s 248ms/step - loss: 0.5382 - accuracy: 0.9793\n",
            "Epoch 61/104\n",
            "2/2 [==============================] - 1s 258ms/step - loss: 0.1613 - accuracy: 0.9896\n",
            "Epoch 62/104\n",
            "2/2 [==============================] - 0s 246ms/step - loss: 0.0000e+00 - accuracy: 1.0000\n",
            "Epoch 63/104\n",
            "2/2 [==============================] - 1s 255ms/step - loss: 0.1942 - accuracy: 0.9845\n",
            "Epoch 64/104\n",
            "2/2 [==============================] - 1s 252ms/step - loss: 0.3407 - accuracy: 0.9741\n",
            "Epoch 65/104\n",
            "2/2 [==============================] - 1s 256ms/step - loss: 0.2757 - accuracy: 0.9896\n",
            "Epoch 66/104\n",
            "2/2 [==============================] - 0s 246ms/step - loss: 0.0000e+00 - accuracy: 1.0000\n",
            "Epoch 67/104\n",
            "2/2 [==============================] - 0s 249ms/step - loss: 0.1011 - accuracy: 0.9948\n",
            "Epoch 68/104\n",
            "2/2 [==============================] - 0s 245ms/step - loss: 0.9009 - accuracy: 0.9896\n",
            "Epoch 69/104\n",
            "2/2 [==============================] - 1s 250ms/step - loss: 0.1643 - accuracy: 0.9948\n",
            "Epoch 70/104\n",
            "2/2 [==============================] - 0s 244ms/step - loss: 0.3963 - accuracy: 0.9793\n",
            "Epoch 71/104\n",
            "2/2 [==============================] - 1s 252ms/step - loss: 0.9659 - accuracy: 0.9689\n",
            "Epoch 72/104\n",
            "2/2 [==============================] - 1s 401ms/step - loss: 0.2364 - accuracy: 0.9896\n",
            "Epoch 73/104\n",
            "2/2 [==============================] - 1s 447ms/step - loss: 1.2627 - accuracy: 0.9793\n",
            "Epoch 74/104\n",
            "2/2 [==============================] - 1s 451ms/step - loss: 0.5483 - accuracy: 0.9896\n",
            "Epoch 75/104\n",
            "2/2 [==============================] - 1s 394ms/step - loss: 0.5140 - accuracy: 0.9741\n",
            "Epoch 76/104\n",
            "2/2 [==============================] - 1s 245ms/step - loss: 1.9589e-06 - accuracy: 1.0000\n",
            "Epoch 77/104\n",
            "2/2 [==============================] - 1s 258ms/step - loss: 0.1686 - accuracy: 0.9896\n",
            "Epoch 78/104\n",
            "2/2 [==============================] - 1s 252ms/step - loss: 0.0000e+00 - accuracy: 1.0000\n",
            "Epoch 79/104\n",
            "2/2 [==============================] - 1s 261ms/step - loss: 1.4163 - accuracy: 0.9741\n",
            "Epoch 80/104\n",
            "2/2 [==============================] - 1s 249ms/step - loss: 0.3358 - accuracy: 0.9896\n",
            "Epoch 81/104\n",
            "2/2 [==============================] - 1s 263ms/step - loss: 0.4374 - accuracy: 0.9948\n",
            "Epoch 82/104\n",
            "2/2 [==============================] - 0s 249ms/step - loss: 0.8436 - accuracy: 0.9845\n",
            "Epoch 83/104\n",
            "2/2 [==============================] - 1s 263ms/step - loss: 0.9865 - accuracy: 0.9741\n",
            "Epoch 84/104\n",
            "2/2 [==============================] - 1s 252ms/step - loss: 9.3229e-04 - accuracy: 1.0000\n",
            "Epoch 85/104\n",
            "2/2 [==============================] - 1s 261ms/step - loss: 1.2353e-09 - accuracy: 1.0000\n",
            "Epoch 86/104\n",
            "2/2 [==============================] - 1s 258ms/step - loss: 0.3483 - accuracy: 0.9896\n",
            "Epoch 87/104\n",
            "2/2 [==============================] - 1s 259ms/step - loss: 0.3256 - accuracy: 0.9793\n",
            "Epoch 88/104\n",
            "2/2 [==============================] - 0s 247ms/step - loss: 6.1766e-10 - accuracy: 1.0000\n",
            "Epoch 89/104\n",
            "2/2 [==============================] - 1s 258ms/step - loss: 0.0538 - accuracy: 0.9948\n",
            "Epoch 90/104\n",
            "2/2 [==============================] - 1s 252ms/step - loss: 0.3428 - accuracy: 0.9845\n",
            "Epoch 91/104\n",
            "2/2 [==============================] - 1s 255ms/step - loss: 1.0873 - accuracy: 0.9689\n",
            "Epoch 92/104\n",
            "2/2 [==============================] - 0s 249ms/step - loss: 0.8054 - accuracy: 0.9845\n",
            "Epoch 93/104\n",
            "2/2 [==============================] - 1s 257ms/step - loss: 0.0468 - accuracy: 0.9948\n",
            "Epoch 94/104\n",
            "2/2 [==============================] - 0s 248ms/step - loss: 0.0452 - accuracy: 0.9948\n",
            "Epoch 95/104\n",
            "2/2 [==============================] - 1s 303ms/step - loss: 0.5671 - accuracy: 0.9845\n",
            "Epoch 96/104\n",
            "2/2 [==============================] - 1s 394ms/step - loss: 0.1361 - accuracy: 0.9948\n",
            "Epoch 97/104\n",
            "2/2 [==============================] - 1s 415ms/step - loss: 8.7770e-06 - accuracy: 1.0000\n",
            "Epoch 98/104\n",
            "2/2 [==============================] - 1s 389ms/step - loss: 0.0020 - accuracy: 1.0000\n",
            "Epoch 99/104\n",
            "2/2 [==============================] - 1s 327ms/step - loss: 0.0877 - accuracy: 0.9896\n",
            "Epoch 100/104\n",
            "2/2 [==============================] - 0s 245ms/step - loss: 9.9528e-06 - accuracy: 1.0000\n",
            "Epoch 101/104\n",
            "2/2 [==============================] - 1s 244ms/step - loss: 0.3624 - accuracy: 0.9896\n",
            "Epoch 102/104\n",
            "2/2 [==============================] - 0s 243ms/step - loss: 0.0000e+00 - accuracy: 1.0000\n",
            "Epoch 103/104\n",
            "2/2 [==============================] - 1s 250ms/step - loss: 0.1652 - accuracy: 0.9896\n",
            "Epoch 104/104\n",
            "2/2 [==============================] - 0s 243ms/step - loss: 4.4199e-04 - accuracy: 1.0000\n"
          ]
        },
        {
          "output_type": "execute_result",
          "data": {
            "text/plain": [
              "<keras.callbacks.History at 0x7f1fdeb87790>"
            ]
          },
          "metadata": {},
          "execution_count": 39
        }
      ]
    },
    {
      "cell_type": "code",
      "metadata": {
        "id": "lW5HTxyHFc9z",
        "colab": {
          "base_uri": "https://localhost:8080/"
        },
        "outputId": "878c8cad-c584-40d7-a984-09496a8daed5"
      },
      "source": [
        "model.fit(x_tr,y_tr,validation_data=(x_vl,y_vl),epochs=104,batch_size=100)"
      ],
      "execution_count": 40,
      "outputs": [
        {
          "output_type": "stream",
          "name": "stdout",
          "text": [
            "Epoch 1/104\n",
            "2/2 [==============================] - 1s 819ms/step - loss: 3.1898e-05 - accuracy: 1.0000 - val_loss: 0.0000e+00 - val_accuracy: 1.0000\n",
            "Epoch 2/104\n",
            "2/2 [==============================] - 0s 235ms/step - loss: 5.2152e-07 - accuracy: 1.0000 - val_loss: 0.0000e+00 - val_accuracy: 1.0000\n",
            "Epoch 3/104\n",
            "2/2 [==============================] - 0s 231ms/step - loss: 1.9040e-07 - accuracy: 1.0000 - val_loss: 0.0000e+00 - val_accuracy: 1.0000\n",
            "Epoch 4/104\n",
            "2/2 [==============================] - 0s 233ms/step - loss: 4.9671e-09 - accuracy: 1.0000 - val_loss: 0.0000e+00 - val_accuracy: 1.0000\n",
            "Epoch 5/104\n",
            "2/2 [==============================] - 1s 246ms/step - loss: 0.0032 - accuracy: 1.0000 - val_loss: 0.0000e+00 - val_accuracy: 1.0000\n",
            "Epoch 6/104\n",
            "2/2 [==============================] - 0s 235ms/step - loss: 4.1392e-09 - accuracy: 1.0000 - val_loss: 0.0000e+00 - val_accuracy: 1.0000\n",
            "Epoch 7/104\n",
            "2/2 [==============================] - 0s 220ms/step - loss: 1.6557e-08 - accuracy: 1.0000 - val_loss: 0.0000e+00 - val_accuracy: 1.0000\n",
            "Epoch 8/104\n",
            "2/2 [==============================] - 0s 231ms/step - loss: 0.4941 - accuracy: 0.9792 - val_loss: 0.0000e+00 - val_accuracy: 1.0000\n",
            "Epoch 9/104\n",
            "2/2 [==============================] - 0s 236ms/step - loss: 1.7716e-07 - accuracy: 1.0000 - val_loss: 0.0000e+00 - val_accuracy: 1.0000\n",
            "Epoch 10/104\n",
            "2/2 [==============================] - 0s 242ms/step - loss: 0.0000e+00 - accuracy: 1.0000 - val_loss: 0.0000e+00 - val_accuracy: 1.0000\n",
            "Epoch 11/104\n",
            "2/2 [==============================] - 0s 236ms/step - loss: 0.0000e+00 - accuracy: 1.0000 - val_loss: 0.0000e+00 - val_accuracy: 1.0000\n",
            "Epoch 12/104\n",
            "2/2 [==============================] - 0s 228ms/step - loss: 0.3894 - accuracy: 0.9931 - val_loss: 0.0000e+00 - val_accuracy: 1.0000\n",
            "Epoch 13/104\n",
            "2/2 [==============================] - 0s 231ms/step - loss: 0.1973 - accuracy: 0.9931 - val_loss: 0.0000e+00 - val_accuracy: 1.0000\n",
            "Epoch 14/104\n",
            "2/2 [==============================] - 1s 234ms/step - loss: 0.0387 - accuracy: 0.9931 - val_loss: 4.8657e-09 - val_accuracy: 1.0000\n",
            "Epoch 15/104\n",
            "2/2 [==============================] - 0s 248ms/step - loss: 1.4570e-07 - accuracy: 1.0000 - val_loss: 7.2985e-09 - val_accuracy: 1.0000\n",
            "Epoch 16/104\n",
            "2/2 [==============================] - 1s 306ms/step - loss: 0.0000e+00 - accuracy: 1.0000 - val_loss: 6.1688e-06 - val_accuracy: 1.0000\n",
            "Epoch 17/104\n",
            "2/2 [==============================] - 1s 402ms/step - loss: 0.1879 - accuracy: 0.9861 - val_loss: 5.1375e-06 - val_accuracy: 1.0000\n",
            "Epoch 18/104\n",
            "2/2 [==============================] - 1s 389ms/step - loss: 0.0000e+00 - accuracy: 1.0000 - val_loss: 0.0030 - val_accuracy: 1.0000\n",
            "Epoch 19/104\n",
            "2/2 [==============================] - 1s 436ms/step - loss: 3.3114e-09 - accuracy: 1.0000 - val_loss: 0.1100 - val_accuracy: 0.9796\n",
            "Epoch 20/104\n",
            "2/2 [==============================] - 1s 227ms/step - loss: 0.1380 - accuracy: 0.9931 - val_loss: 0.2330 - val_accuracy: 0.9796\n",
            "Epoch 21/104\n",
            "2/2 [==============================] - 1s 236ms/step - loss: 2.5733e-06 - accuracy: 1.0000 - val_loss: 0.3263 - val_accuracy: 0.9796\n",
            "Epoch 22/104\n",
            "2/2 [==============================] - 0s 231ms/step - loss: 8.2784e-10 - accuracy: 1.0000 - val_loss: 0.3873 - val_accuracy: 0.9796\n",
            "Epoch 23/104\n",
            "2/2 [==============================] - 0s 234ms/step - loss: 0.4164 - accuracy: 0.9931 - val_loss: 0.3235 - val_accuracy: 0.9796\n",
            "Epoch 24/104\n",
            "2/2 [==============================] - 0s 226ms/step - loss: 0.9983 - accuracy: 0.9931 - val_loss: 0.0010 - val_accuracy: 1.0000\n",
            "Epoch 25/104\n",
            "2/2 [==============================] - 0s 239ms/step - loss: 0.3082 - accuracy: 0.9861 - val_loss: 0.0000e+00 - val_accuracy: 1.0000\n",
            "Epoch 26/104\n",
            "2/2 [==============================] - 0s 228ms/step - loss: 0.6061 - accuracy: 0.9931 - val_loss: 0.0000e+00 - val_accuracy: 1.0000\n",
            "Epoch 27/104\n",
            "2/2 [==============================] - 0s 242ms/step - loss: 0.5590 - accuracy: 0.9792 - val_loss: 0.0000e+00 - val_accuracy: 1.0000\n",
            "Epoch 28/104\n",
            "2/2 [==============================] - 0s 233ms/step - loss: 1.9378 - accuracy: 0.9583 - val_loss: 0.0000e+00 - val_accuracy: 1.0000\n",
            "Epoch 29/104\n",
            "2/2 [==============================] - 0s 244ms/step - loss: 0.4389 - accuracy: 0.9931 - val_loss: 0.0000e+00 - val_accuracy: 1.0000\n",
            "Epoch 30/104\n",
            "2/2 [==============================] - 0s 235ms/step - loss: 0.7692 - accuracy: 0.9861 - val_loss: 0.0560 - val_accuracy: 0.9796\n",
            "Epoch 31/104\n",
            "2/2 [==============================] - 0s 239ms/step - loss: 0.7953 - accuracy: 0.9792 - val_loss: 1.2487 - val_accuracy: 0.9388\n",
            "Epoch 32/104\n",
            "2/2 [==============================] - 0s 235ms/step - loss: 1.0439 - accuracy: 0.9514 - val_loss: 1.1816e-04 - val_accuracy: 1.0000\n",
            "Epoch 33/104\n",
            "2/2 [==============================] - 0s 223ms/step - loss: 1.9652 - accuracy: 0.9722 - val_loss: 0.0000e+00 - val_accuracy: 1.0000\n",
            "Epoch 34/104\n",
            "2/2 [==============================] - 0s 227ms/step - loss: 0.0000e+00 - accuracy: 1.0000 - val_loss: 0.0000e+00 - val_accuracy: 1.0000\n",
            "Epoch 35/104\n",
            "2/2 [==============================] - 0s 235ms/step - loss: 1.3622 - accuracy: 0.9653 - val_loss: 0.3499 - val_accuracy: 0.9796\n",
            "Epoch 36/104\n",
            "2/2 [==============================] - 0s 229ms/step - loss: 0.4659 - accuracy: 0.9792 - val_loss: 0.9008 - val_accuracy: 0.9796\n",
            "Epoch 37/104\n",
            "2/2 [==============================] - 0s 226ms/step - loss: 0.1505 - accuracy: 0.9931 - val_loss: 1.2589 - val_accuracy: 0.9592\n",
            "Epoch 38/104\n",
            "2/2 [==============================] - 0s 223ms/step - loss: 0.8035 - accuracy: 0.9722 - val_loss: 0.8275 - val_accuracy: 0.9592\n",
            "Epoch 39/104\n",
            "2/2 [==============================] - 0s 230ms/step - loss: 4.4703e-08 - accuracy: 1.0000 - val_loss: 0.0646 - val_accuracy: 0.9796\n",
            "Epoch 40/104\n",
            "2/2 [==============================] - 1s 260ms/step - loss: 0.0690 - accuracy: 0.9931 - val_loss: 0.2108 - val_accuracy: 0.9796\n",
            "Epoch 41/104\n",
            "2/2 [==============================] - 1s 410ms/step - loss: 0.4918 - accuracy: 0.9861 - val_loss: 0.5899 - val_accuracy: 0.9796\n",
            "Epoch 42/104\n",
            "2/2 [==============================] - 1s 423ms/step - loss: 0.0000e+00 - accuracy: 1.0000 - val_loss: 0.9176 - val_accuracy: 0.9796\n",
            "Epoch 43/104\n",
            "2/2 [==============================] - 1s 411ms/step - loss: 0.8208 - accuracy: 0.9722 - val_loss: 1.1733 - val_accuracy: 0.9796\n",
            "Epoch 44/104\n",
            "2/2 [==============================] - 1s 229ms/step - loss: 0.3584 - accuracy: 0.9931 - val_loss: 1.3528 - val_accuracy: 0.9796\n",
            "Epoch 45/104\n",
            "2/2 [==============================] - 0s 236ms/step - loss: 0.1168 - accuracy: 0.9931 - val_loss: 1.1933 - val_accuracy: 0.9796\n",
            "Epoch 46/104\n",
            "2/2 [==============================] - 1s 229ms/step - loss: 0.4404 - accuracy: 0.9861 - val_loss: 1.0530 - val_accuracy: 0.9796\n",
            "Epoch 47/104\n",
            "2/2 [==============================] - 0s 232ms/step - loss: 1.6557e-09 - accuracy: 1.0000 - val_loss: 0.9429 - val_accuracy: 0.9796\n",
            "Epoch 48/104\n",
            "2/2 [==============================] - 0s 229ms/step - loss: 0.5420 - accuracy: 0.9931 - val_loss: 0.8874 - val_accuracy: 0.9796\n",
            "Epoch 49/104\n",
            "2/2 [==============================] - 0s 225ms/step - loss: 1.4048 - accuracy: 0.9792 - val_loss: 0.3350 - val_accuracy: 0.9796\n",
            "Epoch 50/104\n",
            "2/2 [==============================] - 1s 226ms/step - loss: 0.0000e+00 - accuracy: 1.0000 - val_loss: 0.0842 - val_accuracy: 0.9796\n",
            "Epoch 51/104\n",
            "2/2 [==============================] - 0s 233ms/step - loss: 0.9041 - accuracy: 0.9722 - val_loss: 0.1602 - val_accuracy: 0.9796\n",
            "Epoch 52/104\n",
            "2/2 [==============================] - 0s 229ms/step - loss: 2.4529 - accuracy: 0.9653 - val_loss: 0.1829 - val_accuracy: 0.9796\n",
            "Epoch 53/104\n",
            "2/2 [==============================] - 0s 228ms/step - loss: 0.2717 - accuracy: 0.9931 - val_loss: 0.8646 - val_accuracy: 0.9796\n",
            "Epoch 54/104\n",
            "2/2 [==============================] - 0s 216ms/step - loss: 0.5302 - accuracy: 0.9861 - val_loss: 1.8155 - val_accuracy: 0.9592\n",
            "Epoch 55/104\n",
            "2/2 [==============================] - 0s 224ms/step - loss: 1.7067 - accuracy: 0.9653 - val_loss: 1.2810 - val_accuracy: 0.9592\n",
            "Epoch 56/104\n",
            "2/2 [==============================] - 0s 221ms/step - loss: 1.3359 - accuracy: 0.9653 - val_loss: 2.2078 - val_accuracy: 0.9388\n",
            "Epoch 57/104\n",
            "2/2 [==============================] - 0s 239ms/step - loss: 0.0128 - accuracy: 0.9931 - val_loss: 3.0731 - val_accuracy: 0.9184\n",
            "Epoch 58/104\n",
            "2/2 [==============================] - 0s 244ms/step - loss: 0.6581 - accuracy: 0.9861 - val_loss: 3.6211 - val_accuracy: 0.9184\n",
            "Epoch 59/104\n",
            "2/2 [==============================] - 0s 232ms/step - loss: 0.2377 - accuracy: 0.9722 - val_loss: 3.4420 - val_accuracy: 0.9184\n",
            "Epoch 60/104\n",
            "2/2 [==============================] - 0s 240ms/step - loss: 0.3244 - accuracy: 0.9861 - val_loss: 2.9399 - val_accuracy: 0.9388\n",
            "Epoch 61/104\n",
            "2/2 [==============================] - 0s 229ms/step - loss: 0.0237 - accuracy: 0.9931 - val_loss: 2.5484 - val_accuracy: 0.9388\n",
            "Epoch 62/104\n",
            "2/2 [==============================] - 0s 245ms/step - loss: 0.0926 - accuracy: 0.9931 - val_loss: 1.9240 - val_accuracy: 0.9388\n",
            "Epoch 63/104\n",
            "2/2 [==============================] - 0s 233ms/step - loss: 0.9564 - accuracy: 0.9931 - val_loss: 0.5561 - val_accuracy: 0.9796\n",
            "Epoch 64/104\n",
            "2/2 [==============================] - 1s 255ms/step - loss: 0.3895 - accuracy: 0.9931 - val_loss: 0.0000e+00 - val_accuracy: 1.0000\n",
            "Epoch 65/104\n",
            "2/2 [==============================] - 1s 377ms/step - loss: 1.8133e-04 - accuracy: 1.0000 - val_loss: 0.0000e+00 - val_accuracy: 1.0000\n",
            "Epoch 66/104\n",
            "2/2 [==============================] - 1s 414ms/step - loss: 0.2400 - accuracy: 0.9861 - val_loss: 0.0000e+00 - val_accuracy: 1.0000\n",
            "Epoch 67/104\n",
            "2/2 [==============================] - 1s 394ms/step - loss: 0.1433 - accuracy: 0.9861 - val_loss: 0.0000e+00 - val_accuracy: 1.0000\n",
            "Epoch 68/104\n",
            "2/2 [==============================] - 1s 329ms/step - loss: 2.5966 - accuracy: 0.9722 - val_loss: 0.0000e+00 - val_accuracy: 1.0000\n",
            "Epoch 69/104\n",
            "2/2 [==============================] - 0s 233ms/step - loss: 0.0391 - accuracy: 0.9931 - val_loss: 0.0040 - val_accuracy: 1.0000\n",
            "Epoch 70/104\n",
            "2/2 [==============================] - 0s 236ms/step - loss: 1.8693 - accuracy: 0.9653 - val_loss: 0.2211 - val_accuracy: 0.9796\n",
            "Epoch 71/104\n",
            "2/2 [==============================] - 0s 224ms/step - loss: 0.0000e+00 - accuracy: 1.0000 - val_loss: 0.4408 - val_accuracy: 0.9796\n",
            "Epoch 72/104\n",
            "2/2 [==============================] - 0s 230ms/step - loss: 0.3518 - accuracy: 0.9861 - val_loss: 0.4150 - val_accuracy: 0.9592\n",
            "Epoch 73/104\n",
            "2/2 [==============================] - 0s 232ms/step - loss: 2.8100 - accuracy: 0.9792 - val_loss: 2.1898e-05 - val_accuracy: 1.0000\n",
            "Epoch 74/104\n",
            "2/2 [==============================] - 0s 232ms/step - loss: 3.3114e-09 - accuracy: 1.0000 - val_loss: 0.4772 - val_accuracy: 0.9796\n",
            "Epoch 75/104\n",
            "2/2 [==============================] - 1s 261ms/step - loss: 1.7529 - accuracy: 0.9792 - val_loss: 1.0322 - val_accuracy: 0.9388\n",
            "Epoch 76/104\n",
            "2/2 [==============================] - 0s 235ms/step - loss: 3.0594 - accuracy: 0.9653 - val_loss: 0.3336 - val_accuracy: 0.9796\n",
            "Epoch 77/104\n",
            "2/2 [==============================] - 0s 236ms/step - loss: 3.8908e-08 - accuracy: 1.0000 - val_loss: 3.1478e-04 - val_accuracy: 1.0000\n",
            "Epoch 78/104\n",
            "2/2 [==============================] - 0s 240ms/step - loss: 0.0000e+00 - accuracy: 1.0000 - val_loss: 0.4393 - val_accuracy: 0.9796\n",
            "Epoch 79/104\n",
            "2/2 [==============================] - 0s 236ms/step - loss: 0.5134 - accuracy: 0.9931 - val_loss: 0.8953 - val_accuracy: 0.9796\n",
            "Epoch 80/104\n",
            "2/2 [==============================] - 1s 270ms/step - loss: 0.1941 - accuracy: 0.9861 - val_loss: 1.1623 - val_accuracy: 0.9592\n",
            "Epoch 81/104\n",
            "2/2 [==============================] - 0s 236ms/step - loss: 0.1739 - accuracy: 0.9931 - val_loss: 5.1843 - val_accuracy: 0.9184\n",
            "Epoch 82/104\n",
            "2/2 [==============================] - 0s 233ms/step - loss: 0.0835 - accuracy: 0.9931 - val_loss: 11.1447 - val_accuracy: 0.8571\n",
            "Epoch 83/104\n",
            "2/2 [==============================] - 0s 235ms/step - loss: 5.3306 - accuracy: 0.9375 - val_loss: 5.8812 - val_accuracy: 0.8776\n",
            "Epoch 84/104\n",
            "2/2 [==============================] - 0s 239ms/step - loss: 3.3364 - accuracy: 0.9722 - val_loss: 1.7327 - val_accuracy: 0.9592\n",
            "Epoch 85/104\n",
            "2/2 [==============================] - 0s 235ms/step - loss: 0.6131 - accuracy: 0.9861 - val_loss: 0.3710 - val_accuracy: 0.9592\n",
            "Epoch 86/104\n",
            "2/2 [==============================] - 0s 232ms/step - loss: 0.5514 - accuracy: 0.9931 - val_loss: 2.3354e-06 - val_accuracy: 1.0000\n",
            "Epoch 87/104\n",
            "2/2 [==============================] - 1s 270ms/step - loss: 0.0421 - accuracy: 0.9931 - val_loss: 1.2313 - val_accuracy: 0.9796\n",
            "Epoch 88/104\n",
            "2/2 [==============================] - 0s 234ms/step - loss: 2.5451 - accuracy: 0.9514 - val_loss: 2.1895e-07 - val_accuracy: 1.0000\n",
            "Epoch 89/104\n",
            "2/2 [==============================] - 1s 422ms/step - loss: 1.1134 - accuracy: 0.9861 - val_loss: 0.6454 - val_accuracy: 0.9796\n",
            "Epoch 90/104\n",
            "2/2 [==============================] - 1s 394ms/step - loss: 6.2375e-06 - accuracy: 1.0000 - val_loss: 1.4312 - val_accuracy: 0.9592\n",
            "Epoch 91/104\n",
            "2/2 [==============================] - 1s 411ms/step - loss: 0.0849 - accuracy: 0.9931 - val_loss: 2.1925 - val_accuracy: 0.9592\n",
            "Epoch 92/104\n",
            "2/2 [==============================] - 1s 370ms/step - loss: 2.6386 - accuracy: 0.9931 - val_loss: 3.7456 - val_accuracy: 0.9388\n",
            "Epoch 93/104\n",
            "2/2 [==============================] - 0s 231ms/step - loss: 3.0403e-05 - accuracy: 1.0000 - val_loss: 6.4179 - val_accuracy: 0.9184\n",
            "Epoch 94/104\n",
            "2/2 [==============================] - 0s 238ms/step - loss: 0.7027 - accuracy: 0.9861 - val_loss: 14.0650 - val_accuracy: 0.8776\n",
            "Epoch 95/104\n",
            "2/2 [==============================] - 0s 224ms/step - loss: 5.5817 - accuracy: 0.9653 - val_loss: 14.7229 - val_accuracy: 0.8776\n",
            "Epoch 96/104\n",
            "2/2 [==============================] - 1s 252ms/step - loss: 2.6317 - accuracy: 0.9722 - val_loss: 8.8860 - val_accuracy: 0.8980\n",
            "Epoch 97/104\n",
            "2/2 [==============================] - 0s 239ms/step - loss: 0.2849 - accuracy: 0.9931 - val_loss: 8.6206 - val_accuracy: 0.9184\n",
            "Epoch 98/104\n",
            "2/2 [==============================] - 0s 239ms/step - loss: 1.3558 - accuracy: 0.9653 - val_loss: 8.0770 - val_accuracy: 0.9184\n",
            "Epoch 99/104\n",
            "2/2 [==============================] - 0s 241ms/step - loss: 1.1300 - accuracy: 0.9653 - val_loss: 5.2056 - val_accuracy: 0.9184\n",
            "Epoch 100/104\n",
            "2/2 [==============================] - 0s 245ms/step - loss: 0.1022 - accuracy: 0.9931 - val_loss: 4.2693 - val_accuracy: 0.9184\n",
            "Epoch 101/104\n",
            "2/2 [==============================] - 0s 235ms/step - loss: 9.6857e-08 - accuracy: 1.0000 - val_loss: 8.1121 - val_accuracy: 0.8776\n",
            "Epoch 102/104\n",
            "2/2 [==============================] - 0s 230ms/step - loss: 2.1409 - accuracy: 0.9931 - val_loss: 9.5866 - val_accuracy: 0.9184\n",
            "Epoch 103/104\n",
            "2/2 [==============================] - 0s 236ms/step - loss: 2.5481 - accuracy: 0.9792 - val_loss: 1.3059 - val_accuracy: 0.9592\n",
            "Epoch 104/104\n",
            "2/2 [==============================] - 0s 228ms/step - loss: 1.1498e-06 - accuracy: 1.0000 - val_loss: 1.3290 - val_accuracy: 0.9796\n"
          ]
        },
        {
          "output_type": "execute_result",
          "data": {
            "text/plain": [
              "<keras.callbacks.History at 0x7f200a97bf10>"
            ]
          },
          "metadata": {},
          "execution_count": 40
        }
      ]
    },
    {
      "cell_type": "code",
      "metadata": {
        "id": "2xpZIF8U9jV_",
        "colab": {
          "base_uri": "https://localhost:8080/"
        },
        "outputId": "831ac07e-0923-41d7-83af-3c13e7a2e3be"
      },
      "source": [
        "loss, acc = model.evaluate(X_train1,y_train1)\n",
        "print(loss,acc)"
      ],
      "execution_count": 41,
      "outputs": [
        {
          "output_type": "stream",
          "name": "stdout",
          "text": [
            "7/7 [==============================] - 0s 20ms/step - loss: 0.3374 - accuracy: 0.9948\n",
            "0.33740589022636414 0.9948186278343201\n"
          ]
        }
      ]
    },
    {
      "cell_type": "code",
      "metadata": {
        "id": "CKzo_84x9jWB",
        "colab": {
          "base_uri": "https://localhost:8080/"
        },
        "outputId": "3608bbba-b9eb-4270-b05f-bd6d9561607b"
      },
      "source": [
        "y_pred = model.predict(X_test1)"
      ],
      "execution_count": 42,
      "outputs": [
        {
          "output_type": "stream",
          "name": "stdout",
          "text": [
            "1/1 [==============================] - 0s 72ms/step\n"
          ]
        }
      ]
    },
    {
      "cell_type": "code",
      "metadata": {
        "id": "qBU6BjEI9jWD",
        "colab": {
          "base_uri": "https://localhost:8080/"
        },
        "outputId": "1a4b18aa-3e46-4d04-dcd0-36a355e82dab"
      },
      "source": [
        "out = []\n",
        "for i in y_pred:\n",
        "  out.append(np.argmax(i))\n",
        "print(out)  "
      ],
      "execution_count": 43,
      "outputs": [
        {
          "output_type": "stream",
          "name": "stdout",
          "text": [
            "[1, 0, 2, 1, 0]\n"
          ]
        }
      ]
    },
    {
      "cell_type": "code",
      "metadata": {
        "id": "SKz7DNjx9jWF"
      },
      "source": [
        "out = lenc.inverse_transform(out)"
      ],
      "execution_count": 44,
      "outputs": []
    },
    {
      "cell_type": "code",
      "metadata": {
        "id": "cG_YGFi19jWH",
        "colab": {
          "base_uri": "https://localhost:8080/"
        },
        "outputId": "c69e5529-b4e6-42e5-b580-6c88b4b6c2bc"
      },
      "source": [
        "a=[]\n",
        "for i in os.listdir('/content/drive/My Drive/AI/Project/CNN/Dataset/test'):\n",
        "    print(i)\n",
        "    a.append(i)"
      ],
      "execution_count": 45,
      "outputs": [
        {
          "output_type": "stream",
          "name": "stdout",
          "text": [
            "113265_03.jpg\n",
            "60daf254-d604-42b1-9f41-3d63ee868664 (1).jpeg\n",
            "1d6731f2-4b20-4877-b745-6f1a9d46a08a.jpeg\n",
            "69a9a30d-cb3b-44b1-a30a-8d6ecedeb45b.jpeg\n",
            "3f0961a7-4364-42bd-9025-b0a6d3fb0923.jpeg\n"
          ]
        }
      ]
    },
    {
      "cell_type": "code",
      "metadata": {
        "id": "pjnqAUhw1zgd"
      },
      "source": [
        "model.add(layers.Flatten())\n",
        "model.add(layers.BatchNormalization())\n",
        "model.add(layers.Dense(256,activation='relu'))\n",
        "model.add(layers.Dropout(0.4))\n",
        "model.add(layers.Dense(3,activation='softmax'))\n",
        "model.compile(optimizer='adam',loss='categorical_crossentropy',metrics=['accuracy'])"
      ],
      "execution_count": 46,
      "outputs": []
    },
    {
      "cell_type": "code",
      "metadata": {
        "id": "Tc6nMfbP9jWJ"
      },
      "source": [
        "import pandas as pd\n",
        "results = {'Labels':out,'Images':a}\n",
        "results = pd.DataFrame(results)"
      ],
      "execution_count": 47,
      "outputs": []
    },
    {
      "cell_type": "code",
      "metadata": {
        "id": "Tvy_Na7x9jWL",
        "colab": {
          "base_uri": "https://localhost:8080/",
          "height": 206
        },
        "outputId": "32207d4b-1e84-4ea0-9050-4a58e846f5c7"
      },
      "source": [
        "results.to_csv('results.csv')\n",
        "results.head()"
      ],
      "execution_count": 50,
      "outputs": [
        {
          "output_type": "execute_result",
          "data": {
            "text/plain": [
              "               Labels                                         Images\n",
              "0      CROWFOOT GRASS                                  113265_03.jpg\n",
              "1  CELOSIA ARGENTEA L  60daf254-d604-42b1-9f41-3d63ee868664 (1).jpeg\n",
              "2      PURPLE CHLORIS      1d6731f2-4b20-4877-b745-6f1a9d46a08a.jpeg\n",
              "3      CROWFOOT GRASS      69a9a30d-cb3b-44b1-a30a-8d6ecedeb45b.jpeg\n",
              "4  CELOSIA ARGENTEA L      3f0961a7-4364-42bd-9025-b0a6d3fb0923.jpeg"
            ],
            "text/html": [
              "\n",
              "  <div id=\"df-4942ac83-8932-49df-a725-ae86fce5d187\">\n",
              "    <div class=\"colab-df-container\">\n",
              "      <div>\n",
              "<style scoped>\n",
              "    .dataframe tbody tr th:only-of-type {\n",
              "        vertical-align: middle;\n",
              "    }\n",
              "\n",
              "    .dataframe tbody tr th {\n",
              "        vertical-align: top;\n",
              "    }\n",
              "\n",
              "    .dataframe thead th {\n",
              "        text-align: right;\n",
              "    }\n",
              "</style>\n",
              "<table border=\"1\" class=\"dataframe\">\n",
              "  <thead>\n",
              "    <tr style=\"text-align: right;\">\n",
              "      <th></th>\n",
              "      <th>Labels</th>\n",
              "      <th>Images</th>\n",
              "    </tr>\n",
              "  </thead>\n",
              "  <tbody>\n",
              "    <tr>\n",
              "      <th>0</th>\n",
              "      <td>CROWFOOT GRASS</td>\n",
              "      <td>113265_03.jpg</td>\n",
              "    </tr>\n",
              "    <tr>\n",
              "      <th>1</th>\n",
              "      <td>CELOSIA ARGENTEA L</td>\n",
              "      <td>60daf254-d604-42b1-9f41-3d63ee868664 (1).jpeg</td>\n",
              "    </tr>\n",
              "    <tr>\n",
              "      <th>2</th>\n",
              "      <td>PURPLE CHLORIS</td>\n",
              "      <td>1d6731f2-4b20-4877-b745-6f1a9d46a08a.jpeg</td>\n",
              "    </tr>\n",
              "    <tr>\n",
              "      <th>3</th>\n",
              "      <td>CROWFOOT GRASS</td>\n",
              "      <td>69a9a30d-cb3b-44b1-a30a-8d6ecedeb45b.jpeg</td>\n",
              "    </tr>\n",
              "    <tr>\n",
              "      <th>4</th>\n",
              "      <td>CELOSIA ARGENTEA L</td>\n",
              "      <td>3f0961a7-4364-42bd-9025-b0a6d3fb0923.jpeg</td>\n",
              "    </tr>\n",
              "  </tbody>\n",
              "</table>\n",
              "</div>\n",
              "      <button class=\"colab-df-convert\" onclick=\"convertToInteractive('df-4942ac83-8932-49df-a725-ae86fce5d187')\"\n",
              "              title=\"Convert this dataframe to an interactive table.\"\n",
              "              style=\"display:none;\">\n",
              "        \n",
              "  <svg xmlns=\"http://www.w3.org/2000/svg\" height=\"24px\"viewBox=\"0 0 24 24\"\n",
              "       width=\"24px\">\n",
              "    <path d=\"M0 0h24v24H0V0z\" fill=\"none\"/>\n",
              "    <path d=\"M18.56 5.44l.94 2.06.94-2.06 2.06-.94-2.06-.94-.94-2.06-.94 2.06-2.06.94zm-11 1L8.5 8.5l.94-2.06 2.06-.94-2.06-.94L8.5 2.5l-.94 2.06-2.06.94zm10 10l.94 2.06.94-2.06 2.06-.94-2.06-.94-.94-2.06-.94 2.06-2.06.94z\"/><path d=\"M17.41 7.96l-1.37-1.37c-.4-.4-.92-.59-1.43-.59-.52 0-1.04.2-1.43.59L10.3 9.45l-7.72 7.72c-.78.78-.78 2.05 0 2.83L4 21.41c.39.39.9.59 1.41.59.51 0 1.02-.2 1.41-.59l7.78-7.78 2.81-2.81c.8-.78.8-2.07 0-2.86zM5.41 20L4 18.59l7.72-7.72 1.47 1.35L5.41 20z\"/>\n",
              "  </svg>\n",
              "      </button>\n",
              "      \n",
              "  <style>\n",
              "    .colab-df-container {\n",
              "      display:flex;\n",
              "      flex-wrap:wrap;\n",
              "      gap: 12px;\n",
              "    }\n",
              "\n",
              "    .colab-df-convert {\n",
              "      background-color: #E8F0FE;\n",
              "      border: none;\n",
              "      border-radius: 50%;\n",
              "      cursor: pointer;\n",
              "      display: none;\n",
              "      fill: #1967D2;\n",
              "      height: 32px;\n",
              "      padding: 0 0 0 0;\n",
              "      width: 32px;\n",
              "    }\n",
              "\n",
              "    .colab-df-convert:hover {\n",
              "      background-color: #E2EBFA;\n",
              "      box-shadow: 0px 1px 2px rgba(60, 64, 67, 0.3), 0px 1px 3px 1px rgba(60, 64, 67, 0.15);\n",
              "      fill: #174EA6;\n",
              "    }\n",
              "\n",
              "    [theme=dark] .colab-df-convert {\n",
              "      background-color: #3B4455;\n",
              "      fill: #D2E3FC;\n",
              "    }\n",
              "\n",
              "    [theme=dark] .colab-df-convert:hover {\n",
              "      background-color: #434B5C;\n",
              "      box-shadow: 0px 1px 3px 1px rgba(0, 0, 0, 0.15);\n",
              "      filter: drop-shadow(0px 1px 2px rgba(0, 0, 0, 0.3));\n",
              "      fill: #FFFFFF;\n",
              "    }\n",
              "  </style>\n",
              "\n",
              "      <script>\n",
              "        const buttonEl =\n",
              "          document.querySelector('#df-4942ac83-8932-49df-a725-ae86fce5d187 button.colab-df-convert');\n",
              "        buttonEl.style.display =\n",
              "          google.colab.kernel.accessAllowed ? 'block' : 'none';\n",
              "\n",
              "        async function convertToInteractive(key) {\n",
              "          const element = document.querySelector('#df-4942ac83-8932-49df-a725-ae86fce5d187');\n",
              "          const dataTable =\n",
              "            await google.colab.kernel.invokeFunction('convertToInteractive',\n",
              "                                                     [key], {});\n",
              "          if (!dataTable) return;\n",
              "\n",
              "          const docLinkHtml = 'Like what you see? Visit the ' +\n",
              "            '<a target=\"_blank\" href=https://colab.research.google.com/notebooks/data_table.ipynb>data table notebook</a>'\n",
              "            + ' to learn more about interactive tables.';\n",
              "          element.innerHTML = '';\n",
              "          dataTable['output_type'] = 'display_data';\n",
              "          await google.colab.output.renderOutput(dataTable, element);\n",
              "          const docLink = document.createElement('div');\n",
              "          docLink.innerHTML = docLinkHtml;\n",
              "          element.appendChild(docLink);\n",
              "        }\n",
              "      </script>\n",
              "    </div>\n",
              "  </div>\n",
              "  "
            ]
          },
          "metadata": {},
          "execution_count": 50
        }
      ]
    }
  ]
}